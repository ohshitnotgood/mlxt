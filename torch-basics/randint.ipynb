{
 "cells": [
  {
   "cell_type": "markdown",
   "metadata": {},
   "source": [
    "# Generating random tensors\n",
    "\n",
    "- Use `torch.randint`\n",
    "- Use the `size` parameter to determine the output tensor size.\n",
    "- Last element of the size tuples tells the size of the smallest tensor. \n",
    "- The following code:\n",
    "    - Generates 1 tensor, \n",
    "    - That 1 tensor has two _sub-tensors_,\n",
    "    - Each of those _sub-tensors_ has 4 more _sub-tensors_,\n",
    "    - Each of those 4 _sub-tensors_ has 5 elements\n"
   ]
  },
  {
   "cell_type": "code",
   "execution_count": 85,
   "metadata": {},
   "outputs": [
    {
     "data": {
      "text/plain": [
       "tensor([[[[6, 7, 7, 3, 6],\n",
       "          [0, 6, 0, 1, 7],\n",
       "          [3, 8, 8, 8, 8],\n",
       "          [9, 3, 8, 7, 0]],\n",
       "\n",
       "         [[0, 9, 0, 1, 4],\n",
       "          [9, 3, 5, 4, 9],\n",
       "          [0, 1, 1, 1, 5],\n",
       "          [3, 8, 1, 5, 0]]]])"
      ]
     },
     "execution_count": 85,
     "metadata": {},
     "output_type": "execute_result"
    }
   ],
   "source": [
    "import torch\n",
    "\n",
    "torch.randint(10, (1, 2, 4, 5))"
   ]
  }
 ],
 "metadata": {
  "kernelspec": {
   "display_name": ".mlxt",
   "language": "python",
   "name": "python3"
  },
  "language_info": {
   "codemirror_mode": {
    "name": "ipython",
    "version": 3
   },
   "file_extension": ".py",
   "mimetype": "text/x-python",
   "name": "python",
   "nbconvert_exporter": "python",
   "pygments_lexer": "ipython3",
   "version": "3.12.3"
  }
 },
 "nbformat": 4,
 "nbformat_minor": 2
}
